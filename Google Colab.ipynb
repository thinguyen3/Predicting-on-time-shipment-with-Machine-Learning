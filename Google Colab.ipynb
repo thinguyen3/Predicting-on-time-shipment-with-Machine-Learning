{
  "nbformat": 4,
  "nbformat_minor": 0,
  "metadata": {
    "colab": {
      "name": "04MayGroup6_Final project.ipynb",
      "provenance": [],
      "collapsed_sections": []
    },
    "kernelspec": {
      "display_name": "Python 3",
      "language": "python",
      "name": "python3"
    },
    "language_info": {
      "codemirror_mode": {
        "name": "ipython",
        "version": 3
      },
      "file_extension": ".py",
      "mimetype": "text/x-python",
      "name": "python",
      "nbconvert_exporter": "python",
      "pygments_lexer": "ipython3",
      "version": "3.8.5"
    }
  },
  "cells": [
    {
      "cell_type": "code",
      "metadata": {
        "id": "LFqS9De8GYyg",
        "colab": {
          "base_uri": "https://localhost:8080/"
        },
        "outputId": "b54df79b-5c9b-445c-9574-25454a3d25a5"
      },
      "source": [
        "import pandas as pd\n",
        "import numpy as np\n",
        "import statsmodels.api as sm\n",
        "import seaborn as sns\n",
        "import matplotlib.pyplot as plt\n",
        "% matplotlib inline\n",
        "from sklearn.linear_model import LogisticRegression\n",
        "from sklearn.externals import joblib"
      ],
      "execution_count": 1,
      "outputs": [
        {
          "output_type": "stream",
          "text": [
            "/usr/local/lib/python3.7/dist-packages/statsmodels/tools/_testing.py:19: FutureWarning: pandas.util.testing is deprecated. Use the functions in the public API at pandas.testing instead.\n",
            "  import pandas.util.testing as tm\n",
            "/usr/local/lib/python3.7/dist-packages/sklearn/externals/joblib/__init__.py:15: FutureWarning: sklearn.externals.joblib is deprecated in 0.21 and will be removed in 0.23. Please import this functionality directly from joblib, which can be installed with: pip install joblib. If this warning is raised when loading pickled models, you may need to re-serialize those models with scikit-learn 0.21+.\n",
            "  warnings.warn(msg, category=FutureWarning)\n"
          ],
          "name": "stderr"
        }
      ]
    },
    {
      "cell_type": "code",
      "metadata": {
        "colab": {
          "base_uri": "https://localhost:8080/"
        },
        "id": "SalwwGssiUUi",
        "outputId": "f4a6fc88-e2ca-42d4-8d27-a7869121e75c"
      },
      "source": [
        "from google.colab import drive\n",
        "drive.mount('/content/drive')\n"
      ],
      "execution_count": 2,
      "outputs": [
        {
          "output_type": "stream",
          "text": [
            "Mounted at /content/drive\n"
          ],
          "name": "stdout"
        }
      ]
    },
    {
      "cell_type": "code",
      "metadata": {
        "id": "6puQlcRPndz-"
      },
      "source": [
        "dat = pd.read_csv('/content/drive/MyDrive/Train (2).csv')"
      ],
      "execution_count": 3,
      "outputs": []
    },
    {
      "cell_type": "markdown",
      "metadata": {
        "id": "S8Je5SiGj0NA"
      },
      "source": [
        "##Data Description"
      ]
    },
    {
      "cell_type": "code",
      "metadata": {
        "colab": {
          "base_uri": "https://localhost:8080/",
          "height": 222
        },
        "id": "xbep3GQAGYyl",
        "outputId": "821146ba-06cd-4760-a53f-2574e2cf2cc0"
      },
      "source": [
        "dat.head()"
      ],
      "execution_count": 4,
      "outputs": [
        {
          "output_type": "execute_result",
          "data": {
            "text/html": [
              "<div>\n",
              "<style scoped>\n",
              "    .dataframe tbody tr th:only-of-type {\n",
              "        vertical-align: middle;\n",
              "    }\n",
              "\n",
              "    .dataframe tbody tr th {\n",
              "        vertical-align: top;\n",
              "    }\n",
              "\n",
              "    .dataframe thead th {\n",
              "        text-align: right;\n",
              "    }\n",
              "</style>\n",
              "<table border=\"1\" class=\"dataframe\">\n",
              "  <thead>\n",
              "    <tr style=\"text-align: right;\">\n",
              "      <th></th>\n",
              "      <th>ID</th>\n",
              "      <th>Warehouse_block</th>\n",
              "      <th>Mode_of_Shipment</th>\n",
              "      <th>Customer_care_calls</th>\n",
              "      <th>Customer_rating</th>\n",
              "      <th>Cost_of_the_Product</th>\n",
              "      <th>Prior_purchases</th>\n",
              "      <th>Product_importance</th>\n",
              "      <th>Gender</th>\n",
              "      <th>Discount_offered</th>\n",
              "      <th>Weight_in_gms</th>\n",
              "      <th>Reached.on.Time_Y.N</th>\n",
              "    </tr>\n",
              "  </thead>\n",
              "  <tbody>\n",
              "    <tr>\n",
              "      <th>0</th>\n",
              "      <td>1</td>\n",
              "      <td>D</td>\n",
              "      <td>Flight</td>\n",
              "      <td>4</td>\n",
              "      <td>2</td>\n",
              "      <td>177</td>\n",
              "      <td>3</td>\n",
              "      <td>low</td>\n",
              "      <td>F</td>\n",
              "      <td>44</td>\n",
              "      <td>1233</td>\n",
              "      <td>1</td>\n",
              "    </tr>\n",
              "    <tr>\n",
              "      <th>1</th>\n",
              "      <td>2</td>\n",
              "      <td>F</td>\n",
              "      <td>Flight</td>\n",
              "      <td>4</td>\n",
              "      <td>5</td>\n",
              "      <td>216</td>\n",
              "      <td>2</td>\n",
              "      <td>low</td>\n",
              "      <td>M</td>\n",
              "      <td>59</td>\n",
              "      <td>3088</td>\n",
              "      <td>1</td>\n",
              "    </tr>\n",
              "    <tr>\n",
              "      <th>2</th>\n",
              "      <td>3</td>\n",
              "      <td>A</td>\n",
              "      <td>Flight</td>\n",
              "      <td>2</td>\n",
              "      <td>2</td>\n",
              "      <td>183</td>\n",
              "      <td>4</td>\n",
              "      <td>low</td>\n",
              "      <td>M</td>\n",
              "      <td>48</td>\n",
              "      <td>3374</td>\n",
              "      <td>1</td>\n",
              "    </tr>\n",
              "    <tr>\n",
              "      <th>3</th>\n",
              "      <td>4</td>\n",
              "      <td>B</td>\n",
              "      <td>Flight</td>\n",
              "      <td>3</td>\n",
              "      <td>3</td>\n",
              "      <td>176</td>\n",
              "      <td>4</td>\n",
              "      <td>medium</td>\n",
              "      <td>M</td>\n",
              "      <td>10</td>\n",
              "      <td>1177</td>\n",
              "      <td>1</td>\n",
              "    </tr>\n",
              "    <tr>\n",
              "      <th>4</th>\n",
              "      <td>5</td>\n",
              "      <td>C</td>\n",
              "      <td>Flight</td>\n",
              "      <td>2</td>\n",
              "      <td>2</td>\n",
              "      <td>184</td>\n",
              "      <td>3</td>\n",
              "      <td>medium</td>\n",
              "      <td>F</td>\n",
              "      <td>46</td>\n",
              "      <td>2484</td>\n",
              "      <td>1</td>\n",
              "    </tr>\n",
              "  </tbody>\n",
              "</table>\n",
              "</div>"
            ],
            "text/plain": [
              "   ID Warehouse_block  ... Weight_in_gms  Reached.on.Time_Y.N\n",
              "0   1               D  ...          1233                    1\n",
              "1   2               F  ...          3088                    1\n",
              "2   3               A  ...          3374                    1\n",
              "3   4               B  ...          1177                    1\n",
              "4   5               C  ...          2484                    1\n",
              "\n",
              "[5 rows x 12 columns]"
            ]
          },
          "metadata": {
            "tags": []
          },
          "execution_count": 4
        }
      ]
    },
    {
      "cell_type": "markdown",
      "metadata": {
        "id": "Jnb9XWKHl3rh"
      },
      "source": [
        "create a subset of data which only contains selected variables."
      ]
    },
    {
      "cell_type": "code",
      "metadata": {
        "colab": {
          "base_uri": "https://localhost:8080/",
          "height": 435
        },
        "id": "NxSirBo3GYym",
        "outputId": "1f0ba95e-0fe3-4a35-f655-e1879bd1749e"
      },
      "source": [
        "subdat=dat[[\"Warehouse_block\", \"Mode_of_Shipment\", \"Cost_of_the_Product\",\"Prior_purchases\",\"Product_importance\",\"Gender\",\"Discount_offered\",\"Weight_in_gms\", \"Reached.on.Time_Y.N\"]]\n",
        "subdat"
      ],
      "execution_count": 5,
      "outputs": [
        {
          "output_type": "execute_result",
          "data": {
            "text/html": [
              "<div>\n",
              "<style scoped>\n",
              "    .dataframe tbody tr th:only-of-type {\n",
              "        vertical-align: middle;\n",
              "    }\n",
              "\n",
              "    .dataframe tbody tr th {\n",
              "        vertical-align: top;\n",
              "    }\n",
              "\n",
              "    .dataframe thead th {\n",
              "        text-align: right;\n",
              "    }\n",
              "</style>\n",
              "<table border=\"1\" class=\"dataframe\">\n",
              "  <thead>\n",
              "    <tr style=\"text-align: right;\">\n",
              "      <th></th>\n",
              "      <th>Warehouse_block</th>\n",
              "      <th>Mode_of_Shipment</th>\n",
              "      <th>Cost_of_the_Product</th>\n",
              "      <th>Prior_purchases</th>\n",
              "      <th>Product_importance</th>\n",
              "      <th>Gender</th>\n",
              "      <th>Discount_offered</th>\n",
              "      <th>Weight_in_gms</th>\n",
              "      <th>Reached.on.Time_Y.N</th>\n",
              "    </tr>\n",
              "  </thead>\n",
              "  <tbody>\n",
              "    <tr>\n",
              "      <th>0</th>\n",
              "      <td>D</td>\n",
              "      <td>Flight</td>\n",
              "      <td>177</td>\n",
              "      <td>3</td>\n",
              "      <td>low</td>\n",
              "      <td>F</td>\n",
              "      <td>44</td>\n",
              "      <td>1233</td>\n",
              "      <td>1</td>\n",
              "    </tr>\n",
              "    <tr>\n",
              "      <th>1</th>\n",
              "      <td>F</td>\n",
              "      <td>Flight</td>\n",
              "      <td>216</td>\n",
              "      <td>2</td>\n",
              "      <td>low</td>\n",
              "      <td>M</td>\n",
              "      <td>59</td>\n",
              "      <td>3088</td>\n",
              "      <td>1</td>\n",
              "    </tr>\n",
              "    <tr>\n",
              "      <th>2</th>\n",
              "      <td>A</td>\n",
              "      <td>Flight</td>\n",
              "      <td>183</td>\n",
              "      <td>4</td>\n",
              "      <td>low</td>\n",
              "      <td>M</td>\n",
              "      <td>48</td>\n",
              "      <td>3374</td>\n",
              "      <td>1</td>\n",
              "    </tr>\n",
              "    <tr>\n",
              "      <th>3</th>\n",
              "      <td>B</td>\n",
              "      <td>Flight</td>\n",
              "      <td>176</td>\n",
              "      <td>4</td>\n",
              "      <td>medium</td>\n",
              "      <td>M</td>\n",
              "      <td>10</td>\n",
              "      <td>1177</td>\n",
              "      <td>1</td>\n",
              "    </tr>\n",
              "    <tr>\n",
              "      <th>4</th>\n",
              "      <td>C</td>\n",
              "      <td>Flight</td>\n",
              "      <td>184</td>\n",
              "      <td>3</td>\n",
              "      <td>medium</td>\n",
              "      <td>F</td>\n",
              "      <td>46</td>\n",
              "      <td>2484</td>\n",
              "      <td>1</td>\n",
              "    </tr>\n",
              "    <tr>\n",
              "      <th>...</th>\n",
              "      <td>...</td>\n",
              "      <td>...</td>\n",
              "      <td>...</td>\n",
              "      <td>...</td>\n",
              "      <td>...</td>\n",
              "      <td>...</td>\n",
              "      <td>...</td>\n",
              "      <td>...</td>\n",
              "      <td>...</td>\n",
              "    </tr>\n",
              "    <tr>\n",
              "      <th>10994</th>\n",
              "      <td>A</td>\n",
              "      <td>Ship</td>\n",
              "      <td>252</td>\n",
              "      <td>5</td>\n",
              "      <td>medium</td>\n",
              "      <td>F</td>\n",
              "      <td>1</td>\n",
              "      <td>1538</td>\n",
              "      <td>1</td>\n",
              "    </tr>\n",
              "    <tr>\n",
              "      <th>10995</th>\n",
              "      <td>B</td>\n",
              "      <td>Ship</td>\n",
              "      <td>232</td>\n",
              "      <td>5</td>\n",
              "      <td>medium</td>\n",
              "      <td>F</td>\n",
              "      <td>6</td>\n",
              "      <td>1247</td>\n",
              "      <td>0</td>\n",
              "    </tr>\n",
              "    <tr>\n",
              "      <th>10996</th>\n",
              "      <td>C</td>\n",
              "      <td>Ship</td>\n",
              "      <td>242</td>\n",
              "      <td>5</td>\n",
              "      <td>low</td>\n",
              "      <td>F</td>\n",
              "      <td>4</td>\n",
              "      <td>1155</td>\n",
              "      <td>0</td>\n",
              "    </tr>\n",
              "    <tr>\n",
              "      <th>10997</th>\n",
              "      <td>F</td>\n",
              "      <td>Ship</td>\n",
              "      <td>223</td>\n",
              "      <td>6</td>\n",
              "      <td>medium</td>\n",
              "      <td>M</td>\n",
              "      <td>2</td>\n",
              "      <td>1210</td>\n",
              "      <td>0</td>\n",
              "    </tr>\n",
              "    <tr>\n",
              "      <th>10998</th>\n",
              "      <td>D</td>\n",
              "      <td>Ship</td>\n",
              "      <td>155</td>\n",
              "      <td>5</td>\n",
              "      <td>low</td>\n",
              "      <td>F</td>\n",
              "      <td>6</td>\n",
              "      <td>1639</td>\n",
              "      <td>0</td>\n",
              "    </tr>\n",
              "  </tbody>\n",
              "</table>\n",
              "<p>10999 rows × 9 columns</p>\n",
              "</div>"
            ],
            "text/plain": [
              "      Warehouse_block Mode_of_Shipment  ...  Weight_in_gms  Reached.on.Time_Y.N\n",
              "0                   D           Flight  ...           1233                    1\n",
              "1                   F           Flight  ...           3088                    1\n",
              "2                   A           Flight  ...           3374                    1\n",
              "3                   B           Flight  ...           1177                    1\n",
              "4                   C           Flight  ...           2484                    1\n",
              "...               ...              ...  ...            ...                  ...\n",
              "10994               A             Ship  ...           1538                    1\n",
              "10995               B             Ship  ...           1247                    0\n",
              "10996               C             Ship  ...           1155                    0\n",
              "10997               F             Ship  ...           1210                    0\n",
              "10998               D             Ship  ...           1639                    0\n",
              "\n",
              "[10999 rows x 9 columns]"
            ]
          },
          "metadata": {
            "tags": []
          },
          "execution_count": 5
        }
      ]
    },
    {
      "cell_type": "code",
      "metadata": {
        "colab": {
          "base_uri": "https://localhost:8080/"
        },
        "id": "XWKaiYnAmqPG",
        "outputId": "a70d0bd1-df2e-4170-8df1-54f946c3d694"
      },
      "source": [
        "subdat.info()"
      ],
      "execution_count": 6,
      "outputs": [
        {
          "output_type": "stream",
          "text": [
            "<class 'pandas.core.frame.DataFrame'>\n",
            "RangeIndex: 10999 entries, 0 to 10998\n",
            "Data columns (total 9 columns):\n",
            " #   Column               Non-Null Count  Dtype \n",
            "---  ------               --------------  ----- \n",
            " 0   Warehouse_block      10999 non-null  object\n",
            " 1   Mode_of_Shipment     10999 non-null  object\n",
            " 2   Cost_of_the_Product  10999 non-null  int64 \n",
            " 3   Prior_purchases      10999 non-null  int64 \n",
            " 4   Product_importance   10999 non-null  object\n",
            " 5   Gender               10999 non-null  object\n",
            " 6   Discount_offered     10999 non-null  int64 \n",
            " 7   Weight_in_gms        10999 non-null  int64 \n",
            " 8   Reached.on.Time_Y.N  10999 non-null  int64 \n",
            "dtypes: int64(5), object(4)\n",
            "memory usage: 773.5+ KB\n"
          ],
          "name": "stdout"
        }
      ]
    },
    {
      "cell_type": "code",
      "metadata": {
        "colab": {
          "base_uri": "https://localhost:8080/",
          "height": 435
        },
        "id": "Qsn7_4p7GYys",
        "outputId": "bcdde382-f273-4829-aa3d-e17c7714a89d"
      },
      "source": [
        "sub_dat=pd.get_dummies(subdat, columns=[\"Warehouse_block\", \"Mode_of_Shipment\",\"Product_importance\",\"Gender\"], drop_first = True)\n",
        "sub_dat"
      ],
      "execution_count": 7,
      "outputs": [
        {
          "output_type": "execute_result",
          "data": {
            "text/html": [
              "<div>\n",
              "<style scoped>\n",
              "    .dataframe tbody tr th:only-of-type {\n",
              "        vertical-align: middle;\n",
              "    }\n",
              "\n",
              "    .dataframe tbody tr th {\n",
              "        vertical-align: top;\n",
              "    }\n",
              "\n",
              "    .dataframe thead th {\n",
              "        text-align: right;\n",
              "    }\n",
              "</style>\n",
              "<table border=\"1\" class=\"dataframe\">\n",
              "  <thead>\n",
              "    <tr style=\"text-align: right;\">\n",
              "      <th></th>\n",
              "      <th>Cost_of_the_Product</th>\n",
              "      <th>Prior_purchases</th>\n",
              "      <th>Discount_offered</th>\n",
              "      <th>Weight_in_gms</th>\n",
              "      <th>Reached.on.Time_Y.N</th>\n",
              "      <th>Warehouse_block_B</th>\n",
              "      <th>Warehouse_block_C</th>\n",
              "      <th>Warehouse_block_D</th>\n",
              "      <th>Warehouse_block_F</th>\n",
              "      <th>Mode_of_Shipment_Road</th>\n",
              "      <th>Mode_of_Shipment_Ship</th>\n",
              "      <th>Product_importance_low</th>\n",
              "      <th>Product_importance_medium</th>\n",
              "      <th>Gender_M</th>\n",
              "    </tr>\n",
              "  </thead>\n",
              "  <tbody>\n",
              "    <tr>\n",
              "      <th>0</th>\n",
              "      <td>177</td>\n",
              "      <td>3</td>\n",
              "      <td>44</td>\n",
              "      <td>1233</td>\n",
              "      <td>1</td>\n",
              "      <td>0</td>\n",
              "      <td>0</td>\n",
              "      <td>1</td>\n",
              "      <td>0</td>\n",
              "      <td>0</td>\n",
              "      <td>0</td>\n",
              "      <td>1</td>\n",
              "      <td>0</td>\n",
              "      <td>0</td>\n",
              "    </tr>\n",
              "    <tr>\n",
              "      <th>1</th>\n",
              "      <td>216</td>\n",
              "      <td>2</td>\n",
              "      <td>59</td>\n",
              "      <td>3088</td>\n",
              "      <td>1</td>\n",
              "      <td>0</td>\n",
              "      <td>0</td>\n",
              "      <td>0</td>\n",
              "      <td>1</td>\n",
              "      <td>0</td>\n",
              "      <td>0</td>\n",
              "      <td>1</td>\n",
              "      <td>0</td>\n",
              "      <td>1</td>\n",
              "    </tr>\n",
              "    <tr>\n",
              "      <th>2</th>\n",
              "      <td>183</td>\n",
              "      <td>4</td>\n",
              "      <td>48</td>\n",
              "      <td>3374</td>\n",
              "      <td>1</td>\n",
              "      <td>0</td>\n",
              "      <td>0</td>\n",
              "      <td>0</td>\n",
              "      <td>0</td>\n",
              "      <td>0</td>\n",
              "      <td>0</td>\n",
              "      <td>1</td>\n",
              "      <td>0</td>\n",
              "      <td>1</td>\n",
              "    </tr>\n",
              "    <tr>\n",
              "      <th>3</th>\n",
              "      <td>176</td>\n",
              "      <td>4</td>\n",
              "      <td>10</td>\n",
              "      <td>1177</td>\n",
              "      <td>1</td>\n",
              "      <td>1</td>\n",
              "      <td>0</td>\n",
              "      <td>0</td>\n",
              "      <td>0</td>\n",
              "      <td>0</td>\n",
              "      <td>0</td>\n",
              "      <td>0</td>\n",
              "      <td>1</td>\n",
              "      <td>1</td>\n",
              "    </tr>\n",
              "    <tr>\n",
              "      <th>4</th>\n",
              "      <td>184</td>\n",
              "      <td>3</td>\n",
              "      <td>46</td>\n",
              "      <td>2484</td>\n",
              "      <td>1</td>\n",
              "      <td>0</td>\n",
              "      <td>1</td>\n",
              "      <td>0</td>\n",
              "      <td>0</td>\n",
              "      <td>0</td>\n",
              "      <td>0</td>\n",
              "      <td>0</td>\n",
              "      <td>1</td>\n",
              "      <td>0</td>\n",
              "    </tr>\n",
              "    <tr>\n",
              "      <th>...</th>\n",
              "      <td>...</td>\n",
              "      <td>...</td>\n",
              "      <td>...</td>\n",
              "      <td>...</td>\n",
              "      <td>...</td>\n",
              "      <td>...</td>\n",
              "      <td>...</td>\n",
              "      <td>...</td>\n",
              "      <td>...</td>\n",
              "      <td>...</td>\n",
              "      <td>...</td>\n",
              "      <td>...</td>\n",
              "      <td>...</td>\n",
              "      <td>...</td>\n",
              "    </tr>\n",
              "    <tr>\n",
              "      <th>10994</th>\n",
              "      <td>252</td>\n",
              "      <td>5</td>\n",
              "      <td>1</td>\n",
              "      <td>1538</td>\n",
              "      <td>1</td>\n",
              "      <td>0</td>\n",
              "      <td>0</td>\n",
              "      <td>0</td>\n",
              "      <td>0</td>\n",
              "      <td>0</td>\n",
              "      <td>1</td>\n",
              "      <td>0</td>\n",
              "      <td>1</td>\n",
              "      <td>0</td>\n",
              "    </tr>\n",
              "    <tr>\n",
              "      <th>10995</th>\n",
              "      <td>232</td>\n",
              "      <td>5</td>\n",
              "      <td>6</td>\n",
              "      <td>1247</td>\n",
              "      <td>0</td>\n",
              "      <td>1</td>\n",
              "      <td>0</td>\n",
              "      <td>0</td>\n",
              "      <td>0</td>\n",
              "      <td>0</td>\n",
              "      <td>1</td>\n",
              "      <td>0</td>\n",
              "      <td>1</td>\n",
              "      <td>0</td>\n",
              "    </tr>\n",
              "    <tr>\n",
              "      <th>10996</th>\n",
              "      <td>242</td>\n",
              "      <td>5</td>\n",
              "      <td>4</td>\n",
              "      <td>1155</td>\n",
              "      <td>0</td>\n",
              "      <td>0</td>\n",
              "      <td>1</td>\n",
              "      <td>0</td>\n",
              "      <td>0</td>\n",
              "      <td>0</td>\n",
              "      <td>1</td>\n",
              "      <td>1</td>\n",
              "      <td>0</td>\n",
              "      <td>0</td>\n",
              "    </tr>\n",
              "    <tr>\n",
              "      <th>10997</th>\n",
              "      <td>223</td>\n",
              "      <td>6</td>\n",
              "      <td>2</td>\n",
              "      <td>1210</td>\n",
              "      <td>0</td>\n",
              "      <td>0</td>\n",
              "      <td>0</td>\n",
              "      <td>0</td>\n",
              "      <td>1</td>\n",
              "      <td>0</td>\n",
              "      <td>1</td>\n",
              "      <td>0</td>\n",
              "      <td>1</td>\n",
              "      <td>1</td>\n",
              "    </tr>\n",
              "    <tr>\n",
              "      <th>10998</th>\n",
              "      <td>155</td>\n",
              "      <td>5</td>\n",
              "      <td>6</td>\n",
              "      <td>1639</td>\n",
              "      <td>0</td>\n",
              "      <td>0</td>\n",
              "      <td>0</td>\n",
              "      <td>1</td>\n",
              "      <td>0</td>\n",
              "      <td>0</td>\n",
              "      <td>1</td>\n",
              "      <td>1</td>\n",
              "      <td>0</td>\n",
              "      <td>0</td>\n",
              "    </tr>\n",
              "  </tbody>\n",
              "</table>\n",
              "<p>10999 rows × 14 columns</p>\n",
              "</div>"
            ],
            "text/plain": [
              "       Cost_of_the_Product  ...  Gender_M\n",
              "0                      177  ...         0\n",
              "1                      216  ...         1\n",
              "2                      183  ...         1\n",
              "3                      176  ...         1\n",
              "4                      184  ...         0\n",
              "...                    ...  ...       ...\n",
              "10994                  252  ...         0\n",
              "10995                  232  ...         0\n",
              "10996                  242  ...         0\n",
              "10997                  223  ...         1\n",
              "10998                  155  ...         0\n",
              "\n",
              "[10999 rows x 14 columns]"
            ]
          },
          "metadata": {
            "tags": []
          },
          "execution_count": 7
        }
      ]
    },
    {
      "cell_type": "markdown",
      "metadata": {
        "id": "V2BMx8mQ2KuS"
      },
      "source": [
        "## Visualization"
      ]
    },
    {
      "cell_type": "code",
      "metadata": {
        "id": "kbmc1j5PwqXA",
        "colab": {
          "base_uri": "https://localhost:8080/",
          "height": 295
        },
        "outputId": "5d852e01-808f-4a8a-dac1-c159304c59cc"
      },
      "source": [
        "#The distribution of 'Cost_of_the_Product':\n",
        "plt.hist(dat['Cost_of_the_Product'], bins = 20, facecolor='brown', alpha=0.3)\n",
        "plt.title(\"The distribution of Cost of the product\")\n",
        "plt.xlabel(\"Cost of the product\")\n",
        "plt.ylabel(\"Count\")\n",
        "plt.show()"
      ],
      "execution_count": 8,
      "outputs": [
        {
          "output_type": "display_data",
          "data": {
            "image/png": "[encoded data removed]",
            "text/plain": [
              "<Figure size 432x288 with 1 Axes>"
            ]
          },
          "metadata": {
            "tags": [],
            "needs_background": "light"
          }
        }
      ]
    },
    {
      "cell_type": "code",
      "metadata": {
        "colab": {
          "base_uri": "https://localhost:8080/",
          "height": 401
        },
        "id": "nPWY6ipMDVY3",
        "outputId": "38468f99-d859-4fba-f363-b42e7d668b2c"
      },
      "source": [
        "#count the number of observations in each category 'Prior_purchases'\n",
        "sns.catplot(x=\"Prior_purchases\", kind = \"count\", palette = \"ch:0.25\", data = sub_dat)"
      ],
      "execution_count": 9,
      "outputs": [
        {
          "output_type": "execute_result",
          "data": {
            "text/plain": [
              "<seaborn.axisgrid.FacetGrid at 0x7f20ffc045d0>"
            ]
          },
          "metadata": {
            "tags": []
          },
          "execution_count": 9
        },
        {
          "output_type": "display_data",
          "data": {
            "image/png": "[encoded data removed]",
            "text/plain": [
              "<Figure size 360x360 with 1 Axes>"
            ]
          },
          "metadata": {
            "tags": [],
            "needs_background": "light"
          }
        }
      ]
    },
    {
      "cell_type": "code",
      "metadata": {
        "colab": {
          "base_uri": "https://localhost:8080/",
          "height": 401
        },
        "id": "O_1uNl64CyEY",
        "outputId": "7a090a11-0e26-44ae-946c-f86a3bdd3473"
      },
      "source": [
        "#count the number of observations in each category 'Reached.on.Time_Y.N'\n",
        "\n",
        "sns.catplot(x=\"Reached.on.Time_Y.N\", kind = \"count\", palette = \"ch:.25\", data = sub_dat)"
      ],
      "execution_count": 10,
      "outputs": [
        {
          "output_type": "execute_result",
          "data": {
            "text/plain": [
              "<seaborn.axisgrid.FacetGrid at 0x7f20ffbeff90>"
            ]
          },
          "metadata": {
            "tags": []
          },
          "execution_count": 10
        },
        {
          "output_type": "display_data",
          "data": {
            "image/png": "[encoded data removed]",
            "text/plain": [
              "<Figure size 360x360 with 1 Axes>"
            ]
          },
          "metadata": {
            "tags": [],
            "needs_background": "light"
          }
        }
      ]
    },
    {
      "cell_type": "code",
      "metadata": {
        "colab": {
          "base_uri": "https://localhost:8080/",
          "height": 297
        },
        "id": "oVWsoWD_ErDU",
        "outputId": "1f2516d8-bda5-4eb7-d83a-39cdcc786823"
      },
      "source": [
        "# visualize relations between a Prior_purchases and Reached.on.Time_Y.N\n",
        "sns.barplot(x = 'Prior_purchases', y = 'Reached.on.Time_Y.N', data = subdat)"
      ],
      "execution_count": null,
      "outputs": [
        {
          "output_type": "execute_result",
          "data": {
            "text/plain": [
              "<matplotlib.axes._subplots.AxesSubplot at 0x7f8c7aaa66d0>"
            ]
          },
          "metadata": {
            "tags": []
          },
          "execution_count": 46
        },
        {
          "output_type": "display_data",
          "data": {
            "image/png": "[encoded data removed]",
            "text/plain": [
              "<Figure size 432x288 with 1 Axes>"
            ]
          },
          "metadata": {
            "tags": [],
            "needs_background": "light"
          }
        }
      ]
    },
    {
      "cell_type": "code",
      "metadata": {
        "colab": {
          "base_uri": "https://localhost:8080/",
          "height": 435
        },
        "id": "a1Ia2X4DynHx",
        "outputId": "5ccfeff8-fa28-4614-9906-21a8475d9ccf"
      },
      "source": [
        "column = sub_dat.pop('Reached.on.Time_Y.N')\n",
        "sub_dat.insert(13, 'Reached.on.Time_Y.N', column)\n",
        "sub_dat"
      ],
      "execution_count": null,
      "outputs": [
        {
          "output_type": "execute_result",
          "data": {
            "text/html": [
              "<div>\n",
              "<style scoped>\n",
              "    .dataframe tbody tr th:only-of-type {\n",
              "        vertical-align: middle;\n",
              "    }\n",
              "\n",
              "    .dataframe tbody tr th {\n",
              "        vertical-align: top;\n",
              "    }\n",
              "\n",
              "    .dataframe thead th {\n",
              "        text-align: right;\n",
              "    }\n",
              "</style>\n",
              "<table border=\"1\" class=\"dataframe\">\n",
              "  <thead>\n",
              "    <tr style=\"text-align: right;\">\n",
              "      <th></th>\n",
              "      <th>Cost_of_the_Product</th>\n",
              "      <th>Prior_purchases</th>\n",
              "      <th>Discount_offered</th>\n",
              "      <th>Weight_in_gms</th>\n",
              "      <th>Warehouse_block_B</th>\n",
              "      <th>Warehouse_block_C</th>\n",
              "      <th>Warehouse_block_D</th>\n",
              "      <th>Warehouse_block_F</th>\n",
              "      <th>Mode_of_Shipment_Road</th>\n",
              "      <th>Mode_of_Shipment_Ship</th>\n",
              "      <th>Product_importance_low</th>\n",
              "      <th>Product_importance_medium</th>\n",
              "      <th>Gender_M</th>\n",
              "      <th>Reached.on.Time_Y.N</th>\n",
              "    </tr>\n",
              "  </thead>\n",
              "  <tbody>\n",
              "    <tr>\n",
              "      <th>0</th>\n",
              "      <td>177</td>\n",
              "      <td>3</td>\n",
              "      <td>44</td>\n",
              "      <td>1233</td>\n",
              "      <td>0</td>\n",
              "      <td>0</td>\n",
              "      <td>1</td>\n",
              "      <td>0</td>\n",
              "      <td>0</td>\n",
              "      <td>0</td>\n",
              "      <td>1</td>\n",
              "      <td>0</td>\n",
              "      <td>0</td>\n",
              "      <td>1</td>\n",
              "    </tr>\n",
              "    <tr>\n",
              "      <th>1</th>\n",
              "      <td>216</td>\n",
              "      <td>2</td>\n",
              "      <td>59</td>\n",
              "      <td>3088</td>\n",
              "      <td>0</td>\n",
              "      <td>0</td>\n",
              "      <td>0</td>\n",
              "      <td>1</td>\n",
              "      <td>0</td>\n",
              "      <td>0</td>\n",
              "      <td>1</td>\n",
              "      <td>0</td>\n",
              "      <td>1</td>\n",
              "      <td>1</td>\n",
              "    </tr>\n",
              "    <tr>\n",
              "      <th>2</th>\n",
              "      <td>183</td>\n",
              "      <td>4</td>\n",
              "      <td>48</td>\n",
              "      <td>3374</td>\n",
              "      <td>0</td>\n",
              "      <td>0</td>\n",
              "      <td>0</td>\n",
              "      <td>0</td>\n",
              "      <td>0</td>\n",
              "      <td>0</td>\n",
              "      <td>1</td>\n",
              "      <td>0</td>\n",
              "      <td>1</td>\n",
              "      <td>1</td>\n",
              "    </tr>\n",
              "    <tr>\n",
              "      <th>3</th>\n",
              "      <td>176</td>\n",
              "      <td>4</td>\n",
              "      <td>10</td>\n",
              "      <td>1177</td>\n",
              "      <td>1</td>\n",
              "      <td>0</td>\n",
              "      <td>0</td>\n",
              "      <td>0</td>\n",
              "      <td>0</td>\n",
              "      <td>0</td>\n",
              "      <td>0</td>\n",
              "      <td>1</td>\n",
              "      <td>1</td>\n",
              "      <td>1</td>\n",
              "    </tr>\n",
              "    <tr>\n",
              "      <th>4</th>\n",
              "      <td>184</td>\n",
              "      <td>3</td>\n",
              "      <td>46</td>\n",
              "      <td>2484</td>\n",
              "      <td>0</td>\n",
              "      <td>1</td>\n",
              "      <td>0</td>\n",
              "      <td>0</td>\n",
              "      <td>0</td>\n",
              "      <td>0</td>\n",
              "      <td>0</td>\n",
              "      <td>1</td>\n",
              "      <td>0</td>\n",
              "      <td>1</td>\n",
              "    </tr>\n",
              "    <tr>\n",
              "      <th>...</th>\n",
              "      <td>...</td>\n",
              "      <td>...</td>\n",
              "      <td>...</td>\n",
              "      <td>...</td>\n",
              "      <td>...</td>\n",
              "      <td>...</td>\n",
              "      <td>...</td>\n",
              "      <td>...</td>\n",
              "      <td>...</td>\n",
              "      <td>...</td>\n",
              "      <td>...</td>\n",
              "      <td>...</td>\n",
              "      <td>...</td>\n",
              "      <td>...</td>\n",
              "    </tr>\n",
              "    <tr>\n",
              "      <th>10994</th>\n",
              "      <td>252</td>\n",
              "      <td>5</td>\n",
              "      <td>1</td>\n",
              "      <td>1538</td>\n",
              "      <td>0</td>\n",
              "      <td>0</td>\n",
              "      <td>0</td>\n",
              "      <td>0</td>\n",
              "      <td>0</td>\n",
              "      <td>1</td>\n",
              "      <td>0</td>\n",
              "      <td>1</td>\n",
              "      <td>0</td>\n",
              "      <td>1</td>\n",
              "    </tr>\n",
              "    <tr>\n",
              "      <th>10995</th>\n",
              "      <td>232</td>\n",
              "      <td>5</td>\n",
              "      <td>6</td>\n",
              "      <td>1247</td>\n",
              "      <td>1</td>\n",
              "      <td>0</td>\n",
              "      <td>0</td>\n",
              "      <td>0</td>\n",
              "      <td>0</td>\n",
              "      <td>1</td>\n",
              "      <td>0</td>\n",
              "      <td>1</td>\n",
              "      <td>0</td>\n",
              "      <td>0</td>\n",
              "    </tr>\n",
              "    <tr>\n",
              "      <th>10996</th>\n",
              "      <td>242</td>\n",
              "      <td>5</td>\n",
              "      <td>4</td>\n",
              "      <td>1155</td>\n",
              "      <td>0</td>\n",
              "      <td>1</td>\n",
              "      <td>0</td>\n",
              "      <td>0</td>\n",
              "      <td>0</td>\n",
              "      <td>1</td>\n",
              "      <td>1</td>\n",
              "      <td>0</td>\n",
              "      <td>0</td>\n",
              "      <td>0</td>\n",
              "    </tr>\n",
              "    <tr>\n",
              "      <th>10997</th>\n",
              "      <td>223</td>\n",
              "      <td>6</td>\n",
              "      <td>2</td>\n",
              "      <td>1210</td>\n",
              "      <td>0</td>\n",
              "      <td>0</td>\n",
              "      <td>0</td>\n",
              "      <td>1</td>\n",
              "      <td>0</td>\n",
              "      <td>1</td>\n",
              "      <td>0</td>\n",
              "      <td>1</td>\n",
              "      <td>1</td>\n",
              "      <td>0</td>\n",
              "    </tr>\n",
              "    <tr>\n",
              "      <th>10998</th>\n",
              "      <td>155</td>\n",
              "      <td>5</td>\n",
              "      <td>6</td>\n",
              "      <td>1639</td>\n",
              "      <td>0</td>\n",
              "      <td>0</td>\n",
              "      <td>1</td>\n",
              "      <td>0</td>\n",
              "      <td>0</td>\n",
              "      <td>1</td>\n",
              "      <td>1</td>\n",
              "      <td>0</td>\n",
              "      <td>0</td>\n",
              "      <td>0</td>\n",
              "    </tr>\n",
              "  </tbody>\n",
              "</table>\n",
              "<p>10999 rows × 14 columns</p>\n",
              "</div>"
            ],
            "text/plain": [
              "       Cost_of_the_Product  Prior_purchases  ...  Gender_M  Reached.on.Time_Y.N\n",
              "0                      177                3  ...         0                    1\n",
              "1                      216                2  ...         1                    1\n",
              "2                      183                4  ...         1                    1\n",
              "3                      176                4  ...         1                    1\n",
              "4                      184                3  ...         0                    1\n",
              "...                    ...              ...  ...       ...                  ...\n",
              "10994                  252                5  ...         0                    1\n",
              "10995                  232                5  ...         0                    0\n",
              "10996                  242                5  ...         0                    0\n",
              "10997                  223                6  ...         1                    0\n",
              "10998                  155                5  ...         0                    0\n",
              "\n",
              "[10999 rows x 14 columns]"
            ]
          },
          "metadata": {
            "tags": []
          },
          "execution_count": 47
        }
      ]
    },
    {
      "cell_type": "code",
      "metadata": {
        "colab": {
          "base_uri": "https://localhost:8080/",
          "height": 717
        },
        "id": "zCzxBFJhxDMn",
        "outputId": "fef99937-90b6-41e0-9f01-0b2c7f48586d"
      },
      "source": [
        "# finding correlation of every pair of features (and the outcome variable), and visualize the correlations using a heatmap\n",
        "corr = sub_dat.corr()\n",
        "print(corr)\n",
        "sns.heatmap(corr, \n",
        "         xticklabels=corr.columns, \n",
        "         yticklabels=corr.columns)"
      ],
      "execution_count": null,
      "outputs": [
        {
          "output_type": "stream",
          "text": [
            "                           Cost_of_the_Product  ...  Reached.on.Time_Y.N\n",
            "Cost_of_the_Product                   1.000000  ...            -0.073587\n",
            "Prior_purchases                       0.123676  ...            -0.055515\n",
            "Discount_offered                     -0.138312  ...             0.397108\n",
            "Weight_in_gms                        -0.132604  ...            -0.268793\n",
            "Warehouse_block_B                     0.018260  ...             0.005106\n",
            "Warehouse_block_C                     0.009255  ...             0.000132\n",
            "Warehouse_block_D                     0.006618  ...             0.000830\n",
            "Warehouse_block_F                    -0.016472  ...             0.002568\n",
            "Mode_of_Shipment_Road                 0.002531  ...            -0.007671\n",
            "Mode_of_Shipment_Ship                 0.004419  ...             0.002577\n",
            "Product_importance_low                0.037361  ...            -0.007667\n",
            "Product_importance_medium            -0.014785  ...            -0.011099\n",
            "Gender_M                              0.019759  ...             0.004689\n",
            "Reached.on.Time_Y.N                  -0.073587  ...             1.000000\n",
            "\n",
            "[14 rows x 14 columns]\n"
          ],
          "name": "stdout"
        },
        {
          "output_type": "execute_result",
          "data": {
            "text/plain": [
              "<matplotlib.axes._subplots.AxesSubplot at 0x7f8c7a9e4c10>"
            ]
          },
          "metadata": {
            "tags": []
          },
          "execution_count": 48
        },
        {
          "output_type": "display_data",
          "data": {
            "image/png": "[encoded data removed]",
            "text/plain": [
              "<Figure size 432x288 with 2 Axes>"
            ]
          },
          "metadata": {
            "tags": [],
            "needs_background": "light"
          }
        }
      ]
    },
    {
      "cell_type": "markdown",
      "metadata": {
        "id": "WE-ZlfaSpVoK"
      },
      "source": [
        "##Data Exploration"
      ]
    },
    {
      "cell_type": "code",
      "metadata": {
        "colab": {
          "base_uri": "https://localhost:8080/"
        },
        "id": "fpoCTBHpYfYU",
        "outputId": "9ad01c46-8fca-45e8-a3c6-13e09bc99b81"
      },
      "source": [
        "X_dat = sub_dat[[\"Cost_of_the_Product\",\"Prior_purchases\",\"Discount_offered\",\"Weight_in_gms\",\"Warehouse_block_B\",\"Warehouse_block_C\",\"Warehouse_block_D\",\"Warehouse_block_F\",\"Mode_of_Shipment_Road\",\"Mode_of_Shipment_Ship\",\"Product_importance_low\",\"Product_importance_medium\",\"Gender_M\"]]\n",
        "y_dat = sub_dat['Reached.on.Time_Y.N']\n",
        "\n",
        "print(y_dat)\n",
        "print(X_dat.head())"
      ],
      "execution_count": null,
      "outputs": [
        {
          "output_type": "stream",
          "text": [
            "0        1\n",
            "1        1\n",
            "2        1\n",
            "3        1\n",
            "4        1\n",
            "        ..\n",
            "10994    1\n",
            "10995    0\n",
            "10996    0\n",
            "10997    0\n",
            "10998    0\n",
            "Name: Reached.on.Time_Y.N, Length: 10999, dtype: int64\n",
            "   Cost_of_the_Product  Prior_purchases  ...  Product_importance_medium  Gender_M\n",
            "0                  177                3  ...                          0         0\n",
            "1                  216                2  ...                          0         1\n",
            "2                  183                4  ...                          0         1\n",
            "3                  176                4  ...                          1         1\n",
            "4                  184                3  ...                          1         0\n",
            "\n",
            "[5 rows x 13 columns]\n"
          ],
          "name": "stdout"
        }
      ]
    },
    {
      "cell_type": "code",
      "metadata": {
        "colab": {
          "base_uri": "https://localhost:8080/",
          "height": 545
        },
        "id": "ivkw4xqGrRqg",
        "outputId": "4c1cfc58-5d67-4aca-c34a-1c6486ba9240"
      },
      "source": [
        "X_dat = sm.add_constant(X_dat)\n",
        "logit = sm.Logit(y_dat, X_dat)\n",
        "logit.fit().summary()"
      ],
      "execution_count": null,
      "outputs": [
        {
          "output_type": "stream",
          "text": [
            "Optimization terminated successfully.\n",
            "         Current function value: 0.547044\n",
            "         Iterations 8\n"
          ],
          "name": "stdout"
        },
        {
          "output_type": "execute_result",
          "data": {
            "text/html": [
              "<table class=\"simpletable\">\n",
              "<caption>Logit Regression Results</caption>\n",
              "<tr>\n",
              "  <th>Dep. Variable:</th>   <td>Reached.on.Time_Y.N</td> <th>  No. Observations:  </th>  <td> 10999</td> \n",
              "</tr>\n",
              "<tr>\n",
              "  <th>Model:</th>                  <td>Logit</td>        <th>  Df Residuals:      </th>  <td> 10985</td> \n",
              "</tr>\n",
              "<tr>\n",
              "  <th>Method:</th>                  <td>MLE</td>         <th>  Df Model:          </th>  <td>    13</td> \n",
              "</tr>\n",
              "<tr>\n",
              "  <th>Date:</th>             <td>Fri, 07 May 2021</td>   <th>  Pseudo R-squ.:     </th>  <td>0.1888</td> \n",
              "</tr>\n",
              "<tr>\n",
              "  <th>Time:</th>                 <td>02:23:20</td>       <th>  Log-Likelihood:    </th> <td> -6016.9</td>\n",
              "</tr>\n",
              "<tr>\n",
              "  <th>converged:</th>              <td>True</td>         <th>  LL-Null:           </th> <td> -7417.0</td>\n",
              "</tr>\n",
              "<tr>\n",
              "  <th>Covariance Type:</th>      <td>nonrobust</td>      <th>  LLR p-value:       </th>  <td> 0.000</td> \n",
              "</tr>\n",
              "</table>\n",
              "<table class=\"simpletable\">\n",
              "<tr>\n",
              "              <td></td>                 <th>coef</th>     <th>std err</th>      <th>z</th>      <th>P>|z|</th>  <th>[0.025</th>    <th>0.975]</th>  \n",
              "</tr>\n",
              "<tr>\n",
              "  <th>const</th>                     <td>    1.2915</td> <td>    0.191</td> <td>    6.756</td> <td> 0.000</td> <td>    0.917</td> <td>    1.666</td>\n",
              "</tr>\n",
              "<tr>\n",
              "  <th>Cost_of_the_Product</th>       <td>   -0.0026</td> <td>    0.000</td> <td>   -5.267</td> <td> 0.000</td> <td>   -0.004</td> <td>   -0.002</td>\n",
              "</tr>\n",
              "<tr>\n",
              "  <th>Prior_purchases</th>           <td>   -0.0823</td> <td>    0.015</td> <td>   -5.439</td> <td> 0.000</td> <td>   -0.112</td> <td>   -0.053</td>\n",
              "</tr>\n",
              "<tr>\n",
              "  <th>Discount_offered</th>          <td>    0.1138</td> <td>    0.004</td> <td>   25.664</td> <td> 0.000</td> <td>    0.105</td> <td>    0.122</td>\n",
              "</tr>\n",
              "<tr>\n",
              "  <th>Weight_in_gms</th>             <td>   -0.0002</td> <td> 1.52e-05</td> <td>  -14.107</td> <td> 0.000</td> <td>   -0.000</td> <td>   -0.000</td>\n",
              "</tr>\n",
              "<tr>\n",
              "  <th>Warehouse_block_B</th>         <td>    0.0852</td> <td>    0.075</td> <td>    1.132</td> <td> 0.258</td> <td>   -0.062</td> <td>    0.233</td>\n",
              "</tr>\n",
              "<tr>\n",
              "  <th>Warehouse_block_C</th>         <td>    0.0522</td> <td>    0.075</td> <td>    0.693</td> <td> 0.488</td> <td>   -0.095</td> <td>    0.200</td>\n",
              "</tr>\n",
              "<tr>\n",
              "  <th>Warehouse_block_D</th>         <td>    0.0621</td> <td>    0.075</td> <td>    0.826</td> <td> 0.409</td> <td>   -0.085</td> <td>    0.209</td>\n",
              "</tr>\n",
              "<tr>\n",
              "  <th>Warehouse_block_F</th>         <td>    0.0422</td> <td>    0.065</td> <td>    0.646</td> <td> 0.518</td> <td>   -0.086</td> <td>    0.170</td>\n",
              "</tr>\n",
              "<tr>\n",
              "  <th>Mode_of_Shipment_Road</th>     <td>   -0.0322</td> <td>    0.077</td> <td>   -0.420</td> <td> 0.674</td> <td>   -0.182</td> <td>    0.118</td>\n",
              "</tr>\n",
              "<tr>\n",
              "  <th>Mode_of_Shipment_Ship</th>     <td>   -0.0150</td> <td>    0.060</td> <td>   -0.249</td> <td> 0.803</td> <td>   -0.133</td> <td>    0.103</td>\n",
              "</tr>\n",
              "<tr>\n",
              "  <th>Product_importance_low</th>    <td>   -0.3566</td> <td>    0.084</td> <td>   -4.268</td> <td> 0.000</td> <td>   -0.520</td> <td>   -0.193</td>\n",
              "</tr>\n",
              "<tr>\n",
              "  <th>Product_importance_medium</th> <td>   -0.3417</td> <td>    0.084</td> <td>   -4.076</td> <td> 0.000</td> <td>   -0.506</td> <td>   -0.177</td>\n",
              "</tr>\n",
              "<tr>\n",
              "  <th>Gender_M</th>                  <td>    0.0528</td> <td>    0.044</td> <td>    1.211</td> <td> 0.226</td> <td>   -0.033</td> <td>    0.138</td>\n",
              "</tr>\n",
              "</table>"
            ],
            "text/plain": [
              "<class 'statsmodels.iolib.summary.Summary'>\n",
              "\"\"\"\n",
              "                            Logit Regression Results                           \n",
              "===============================================================================\n",
              "Dep. Variable:     Reached.on.Time_Y.N   No. Observations:                10999\n",
              "Model:                           Logit   Df Residuals:                    10985\n",
              "Method:                            MLE   Df Model:                           13\n",
              "Date:                 Fri, 07 May 2021   Pseudo R-squ.:                  0.1888\n",
              "Time:                         02:23:20   Log-Likelihood:                -6016.9\n",
              "converged:                        True   LL-Null:                       -7417.0\n",
              "Covariance Type:             nonrobust   LLR p-value:                     0.000\n",
              "=============================================================================================\n",
              "                                coef    std err          z      P>|z|      [0.025      0.975]\n",
              "---------------------------------------------------------------------------------------------\n",
              "const                         1.2915      0.191      6.756      0.000       0.917       1.666\n",
              "Cost_of_the_Product          -0.0026      0.000     -5.267      0.000      -0.004      -0.002\n",
              "Prior_purchases              -0.0823      0.015     -5.439      0.000      -0.112      -0.053\n",
              "Discount_offered              0.1138      0.004     25.664      0.000       0.105       0.122\n",
              "Weight_in_gms                -0.0002   1.52e-05    -14.107      0.000      -0.000      -0.000\n",
              "Warehouse_block_B             0.0852      0.075      1.132      0.258      -0.062       0.233\n",
              "Warehouse_block_C             0.0522      0.075      0.693      0.488      -0.095       0.200\n",
              "Warehouse_block_D             0.0621      0.075      0.826      0.409      -0.085       0.209\n",
              "Warehouse_block_F             0.0422      0.065      0.646      0.518      -0.086       0.170\n",
              "Mode_of_Shipment_Road        -0.0322      0.077     -0.420      0.674      -0.182       0.118\n",
              "Mode_of_Shipment_Ship        -0.0150      0.060     -0.249      0.803      -0.133       0.103\n",
              "Product_importance_low       -0.3566      0.084     -4.268      0.000      -0.520      -0.193\n",
              "Product_importance_medium    -0.3417      0.084     -4.076      0.000      -0.506      -0.177\n",
              "Gender_M                      0.0528      0.044      1.211      0.226      -0.033       0.138\n",
              "=============================================================================================\n",
              "\"\"\""
            ]
          },
          "metadata": {
            "tags": []
          },
          "execution_count": 50
        }
      ]
    },
    {
      "cell_type": "markdown",
      "metadata": {
        "id": "rrqYD_KT-coA"
      },
      "source": [
        "## Test set Method\n",
        "\n"
      ]
    },
    {
      "cell_type": "code",
      "metadata": {
        "id": "mHz0m5sJ_eWl"
      },
      "source": [
        "from sklearn.model_selection import train_test_split\n",
        "\n",
        "trainX, testX, trainY, testY = train_test_split(sub_dat[[\"Cost_of_the_Product\",\"Prior_purchases\",\"Discount_offered\",\"Weight_in_gms\",\"Product_importance_low\",\"Product_importance_medium\"]], sub_dat['Reached.on.Time_Y.N'], test_size=0.25)\n",
        "\n",
        "from sklearn import metrics"
      ],
      "execution_count": null,
      "outputs": []
    },
    {
      "cell_type": "markdown",
      "metadata": {
        "id": "1byVgUBuBw9w"
      },
      "source": [
        "### Apply Models\n",
        "We will use models:\n",
        "- Logistic regression\n",
        "- Decision tree\n",
        "- SVM\n",
        "\n",
        "And will pick up the best model base on accuracy score"
      ]
    },
    {
      "cell_type": "code",
      "metadata": {
        "colab": {
          "base_uri": "https://localhost:8080/",
          "height": 349
        },
        "id": "hDNIue-0Q0nh",
        "outputId": "410e9550-1200-46e1-de4a-4cf6ece56660"
      },
      "source": [
        "# Logistic regression - training\n",
        "lr = LogisticRegression()\n",
        "lr.fit(trainX, trainY)\n",
        "\n",
        "print(\"Confusion Matrix for LR model:\")\n",
        "print(metrics.confusion_matrix(y_pred = lr.predict(testX), y_true=testY, labels = [1, 0]))\n",
        "\n",
        "sns.heatmap(metrics.confusion_matrix(y_pred = lr.predict(testX), y_true=testY, labels = [1, 0]),annot = True,fmt=\"d\",linewidths=.5) \n",
        "plt.xlabel('Predicted classes')\n",
        "plt.ylabel('Actual classes')\n",
        "plt.show()\n",
        "\n",
        "print(\"Accuracy Score for LR model:\", lr.score(testX, testY))"
      ],
      "execution_count": null,
      "outputs": [
        {
          "output_type": "stream",
          "text": [
            "Confusion Matrix for LR model:\n",
            "[[1128  535]\n",
            " [ 454  633]]\n"
          ],
          "name": "stdout"
        },
        {
          "output_type": "display_data",
          "data": {
            "image/png": "[encoded data removed]",
            "text/plain": [
              "<Figure size 432x288 with 2 Axes>"
            ]
          },
          "metadata": {
            "tags": [],
            "needs_background": "light"
          }
        },
        {
          "output_type": "stream",
          "text": [
            "Accuracy Score for LR model: 0.6403636363636364\n"
          ],
          "name": "stdout"
        }
      ]
    },
    {
      "cell_type": "code",
      "metadata": {
        "colab": {
          "base_uri": "https://localhost:8080/",
          "height": 349
        },
        "id": "d-efFIIaCTfd",
        "outputId": "2445479d-5559-4d64-d6ec-9b5eabcddbfb"
      },
      "source": [
        "# Decision Tree - training\n",
        "from sklearn.tree import DecisionTreeClassifier \n",
        "dt = DecisionTreeClassifier(max_depth=5) \n",
        "dt.fit(trainX, trainY)\n",
        "# Testing\n",
        "print(dt.score(testX, testY)) # accuracy rate\n",
        "print(metrics.confusion_matrix(y_pred = dt.predict(testX), y_true=testY, labels = [1, 0]))\n",
        "\n",
        "sns.heatmap(metrics.confusion_matrix(y_pred = dt.predict(testX), y_true=testY, labels = [1, 0]),annot = True,fmt=\"d\",linewidths=.5) \n",
        "plt.xlabel('Predicted classes')\n",
        "plt.ylabel('Actual classes')\n",
        "plt.show()\n",
        "\n",
        "print(\"Accuracy Score for Decision Tree model:\", dt.score(testX, testY))\n",
        "\n"
      ],
      "execution_count": null,
      "outputs": [
        {
          "output_type": "stream",
          "text": [
            "0.6832727272727273\n",
            "[[ 857  806]\n",
            " [  65 1022]]\n"
          ],
          "name": "stdout"
        },
        {
          "output_type": "display_data",
          "data": {
            "image/png": "[encoded data removed]",
            "text/plain": [
              "<Figure size 432x288 with 2 Axes>"
            ]
          },
          "metadata": {
            "tags": [],
            "needs_background": "light"
          }
        },
        {
          "output_type": "stream",
          "text": [
            "Accuracy Score for Decision Tree model: 0.6832727272727273\n"
          ],
          "name": "stdout"
        }
      ]
    },
    {
      "cell_type": "code",
      "metadata": {
        "colab": {
          "base_uri": "https://localhost:8080/",
          "height": 575
        },
        "id": "v-ExZL5ZPRbW",
        "outputId": "920c9cdb-5564-4a3d-d5d3-60baf5e31843"
      },
      "source": [
        "from sklearn import tree\n",
        "\n",
        "features = list(trainX.columns)\n",
        "fig, ax = plt.subplots(figsize=(20, 10)) \n",
        "tree.plot_tree(dt, ax=ax, fontsize=10, feature_names = features, max_depth = 5) \n",
        "\n",
        "plt.show()"
      ],
      "execution_count": null,
      "outputs": [
        {
          "output_type": "display_data",
          "data": {
            "image/png": "[encoded data removed]",
            "text/plain": [
              "<Figure size 1440x720 with 1 Axes>"
            ]
          },
          "metadata": {
            "tags": [],
            "needs_background": "light"
          }
        }
      ]
    },
    {
      "cell_type": "code",
      "metadata": {
        "colab": {
          "base_uri": "https://localhost:8080/",
          "height": 349
        },
        "id": "9VznYotnTRpY",
        "outputId": "575b99a0-5058-430f-cb3c-4ea010a23341"
      },
      "source": [
        "# SVM - training \n",
        "from sklearn.svm import SVC\n",
        "svm = SVC(kernel='linear')\n",
        "svm = svm.fit(trainX, trainY)\n",
        "# Testing\n",
        "print(svm.score(testX, testY)) # accuracy rate\n",
        "print(metrics.confusion_matrix(y_pred = svm.predict(testX), y_true=testY, labels = [1, 0]))\n",
        "\n",
        "sns.heatmap(metrics.confusion_matrix(y_pred = svm.predict(testX), y_true=testY, labels = [1, 0]),annot = True,fmt=\"d\",linewidths=.5) \n",
        "plt.xlabel('Predicted classes')\n",
        "plt.ylabel('Actual classes')\n",
        "plt.show()\n",
        "\n",
        "print(\"Accuracy Score for SVM model:\", svm.score(testX, testY))"
      ],
      "execution_count": null,
      "outputs": [
        {
          "output_type": "stream",
          "text": [
            "0.6432727272727272\n",
            "[[1015  648]\n",
            " [ 333  754]]\n"
          ],
          "name": "stdout"
        },
        {
          "output_type": "display_data",
          "data": {
            "image/png": "[encoded data removed]",
            "text/plain": [
              "<Figure size 432x288 with 2 Axes>"
            ]
          },
          "metadata": {
            "tags": [],
            "needs_background": "light"
          }
        },
        {
          "output_type": "stream",
          "text": [
            "Accuracy Score for SVM model: 0.6432727272727272\n"
          ],
          "name": "stdout"
        }
      ]
    }
  ]
}